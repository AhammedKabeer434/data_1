{
  "nbformat": 4,
  "nbformat_minor": 0,
  "metadata": {
    "colab": {
      "provenance": [],
      "collapsed_sections": [
        "kDJmMkC2CzlR",
        "gwVcqGS7C2GB"
      ],
      "authorship_tag": "ABX9TyPNWsjndV1Lz2qn8wK91nKz",
      "include_colab_link": true
    },
    "kernelspec": {
      "name": "python3",
      "display_name": "Python 3"
    },
    "language_info": {
      "name": "python"
    }
  },
  "cells": [
    {
      "cell_type": "markdown",
      "metadata": {
        "id": "view-in-github",
        "colab_type": "text"
      },
      "source": [
        "<a href=\"https://colab.research.google.com/github/AhammedKabeer434/data_1/blob/main/Codekata.ipynb\" target=\"_parent\"><img src=\"https://colab.research.google.com/assets/colab-badge.svg\" alt=\"Open In Colab\"/></a>"
      ]
    },
    {
      "cell_type": "markdown",
      "source": [
        "# Input/Output"
      ],
      "metadata": {
        "id": "kDJmMkC2CzlR"
      }
    },
    {
      "cell_type": "code",
      "source": [
        "# Question No. 1 and 2\n",
        "a = input()\n",
        "print(a)"
      ],
      "metadata": {
        "colab": {
          "base_uri": "https://localhost:8080/"
        },
        "id": "2z2eSfZJB22c",
        "outputId": "1ebe21c7-d23f-4491-e05b-540670cedf2b"
      },
      "execution_count": null,
      "outputs": [
        {
          "output_type": "stream",
          "name": "stdout",
          "text": [
            "2\n",
            "2\n"
          ]
        }
      ]
    },
    {
      "cell_type": "code",
      "source": [
        "x=input()\n",
        "y=input()\n",
        "print(x)\n",
        "print(y)"
      ],
      "metadata": {
        "colab": {
          "base_uri": "https://localhost:8080/"
        },
        "id": "zVMrfa0MB2mI",
        "outputId": "c2feaeb9-a7c1-4e4b-b89a-060113471be7"
      },
      "execution_count": null,
      "outputs": [
        {
          "output_type": "stream",
          "name": "stdout",
          "text": [
            "2\n",
            "3\n",
            "2\n",
            "3\n"
          ]
        }
      ]
    },
    {
      "cell_type": "code",
      "source": [
        "# Question No. 4 and 6\n",
        "a = input()\n",
        "b = input()\n",
        "c = input()\n",
        "\n",
        "print(a)\n",
        "print(b)\n",
        "print(c)"
      ],
      "metadata": {
        "colab": {
          "base_uri": "https://localhost:8080/"
        },
        "id": "K3DZjBNxB2eF",
        "outputId": "60c47c9b-c0e4-432d-c63b-27845826957e"
      },
      "execution_count": null,
      "outputs": [
        {
          "output_type": "stream",
          "name": "stdout",
          "text": [
            "5\n",
            "6\n",
            "8\n",
            "5\n",
            "6\n",
            "8\n"
          ]
        }
      ]
    },
    {
      "cell_type": "code",
      "source": [
        "a = input()\n",
        "b = input()\n",
        "c = input()\n",
        "\n",
        "print(a,b,c)"
      ],
      "metadata": {
        "colab": {
          "base_uri": "https://localhost:8080/"
        },
        "id": "ClNosBQNB2WD",
        "outputId": "bafacbe3-7e88-4692-f490-ba3aeb0e9a1b"
      },
      "execution_count": null,
      "outputs": [
        {
          "output_type": "stream",
          "name": "stdout",
          "text": [
            "5\n",
            "6\n",
            "8\n",
            "5 6 8\n"
          ]
        }
      ]
    },
    {
      "cell_type": "code",
      "source": [
        "# Question No. 7 and 10\n",
        "a = input()\n",
        "\n",
        "print(*a, sep=\" \")"
      ],
      "metadata": {
        "colab": {
          "base_uri": "https://localhost:8080/"
        },
        "id": "cT5hXLCYB2G7",
        "outputId": "07b0dc93-bf19-4208-ff9a-f9b05e682c99"
      },
      "execution_count": null,
      "outputs": [
        {
          "output_type": "stream",
          "name": "stdout",
          "text": [
            "hello\n",
            "h e l l o\n"
          ]
        }
      ]
    },
    {
      "cell_type": "code",
      "source": [
        "a, b, c = input().split()\n",
        "\n",
        "print(a)\n",
        "print(b)\n",
        "print(c)"
      ],
      "metadata": {
        "colab": {
          "base_uri": "https://localhost:8080/"
        },
        "id": "3rbdDqoiB1-3",
        "outputId": "7b5e1952-88e7-472b-e276-b8071b155c43"
      },
      "execution_count": null,
      "outputs": [
        {
          "output_type": "stream",
          "name": "stdout",
          "text": [
            "1 2 3\n",
            "1\n",
            "2\n",
            "3\n"
          ]
        }
      ]
    },
    {
      "cell_type": "code",
      "source": [
        "x = input()\n",
        "\n",
        "for a in x:\n",
        "\n",
        "    print(a)"
      ],
      "metadata": {
        "colab": {
          "base_uri": "https://localhost:8080/"
        },
        "id": "RwN5WPdMB113",
        "outputId": "535da8fa-1711-4599-eb60-b9422f4bb775"
      },
      "execution_count": null,
      "outputs": [
        {
          "output_type": "stream",
          "name": "stdout",
          "text": [
            "hello\n",
            "h\n",
            "e\n",
            "l\n",
            "l\n",
            "o\n"
          ]
        }
      ]
    },
    {
      "cell_type": "markdown",
      "source": [
        "# Absolute Beginner"
      ],
      "metadata": {
        "id": "gwVcqGS7C2GB"
      }
    },
    {
      "cell_type": "code",
      "execution_count": null,
      "metadata": {
        "colab": {
          "base_uri": "https://localhost:8080/"
        },
        "id": "gJoJeZ9wBPlz",
        "outputId": "9f36aa8d-c695-4059-9202-ece672882821"
      },
      "outputs": [
        {
          "output_type": "stream",
          "name": "stdout",
          "text": [
            "2\n",
            "3\n",
            "6\n"
          ]
        }
      ],
      "source": [
        "a=int(input())\n",
        "b=int(input())\n",
        "\n",
        "print(a*b)"
      ]
    },
    {
      "cell_type": "code",
      "source": [
        "a=int(input())\n",
        "\n",
        "if a%2==0:\n",
        "    print(\"Even\")\n",
        "else:\n",
        "    print(\"Odd\")"
      ],
      "metadata": {
        "colab": {
          "base_uri": "https://localhost:8080/"
        },
        "id": "KjEi5ulTBWA9",
        "outputId": "40338ef1-8035-4cd2-ddaf-5042210896bd"
      },
      "execution_count": null,
      "outputs": [
        {
          "output_type": "stream",
          "name": "stdout",
          "text": [
            "2\n",
            "Even\n"
          ]
        }
      ]
    },
    {
      "cell_type": "code",
      "source": [
        "a=int(input())\n",
        "b=int(input())\n",
        "\n",
        "print(a+b)"
      ],
      "metadata": {
        "colab": {
          "base_uri": "https://localhost:8080/"
        },
        "id": "yMzOLkMjQNAr",
        "outputId": "a04a9c69-2e6c-4199-c7b0-65bd3dbe58e9"
      },
      "execution_count": null,
      "outputs": [
        {
          "output_type": "stream",
          "name": "stdout",
          "text": [
            "1\n",
            "1\n",
            "2\n"
          ]
        }
      ]
    },
    {
      "cell_type": "code",
      "source": [
        "import math\n",
        "\n",
        "def area_of_eql_triangle():\n",
        "  a=int(input())\n",
        "  area_calculated = 1/4 * (math.sqrt(3)*a**2)\n",
        "  return round(area_calculated,2)\n",
        "\n",
        "area=area_of_eql_triangle()\n",
        "print(area)"
      ],
      "metadata": {
        "colab": {
          "base_uri": "https://localhost:8080/"
        },
        "id": "fvubAGe3KtHv",
        "outputId": "225102a5-e023-4f0c-f6b8-b5f3d3791b5c"
      },
      "execution_count": null,
      "outputs": [
        {
          "output_type": "stream",
          "name": "stdout",
          "text": [
            "20\n",
            "173.21\n"
          ]
        }
      ]
    },
    {
      "cell_type": "code",
      "source": [
        "a=float(input())\n",
        "b=(a*1.8)+32\n",
        "c=round(b,2) #round function is used to round-off the decimal values\n",
        "print(c)"
      ],
      "metadata": {
        "colab": {
          "base_uri": "https://localhost:8080/"
        },
        "id": "vHy4uVh8BaOP",
        "outputId": "c2344697-0756-4531-d42c-af06510a4022"
      },
      "execution_count": null,
      "outputs": [
        {
          "output_type": "stream",
          "name": "stdout",
          "text": [
            "5.5\n",
            "41.9\n"
          ]
        }
      ]
    },
    {
      "cell_type": "code",
      "source": [
        "a=int(input())\n",
        "\n",
        "if a==0:\n",
        "  print(0)\n",
        "if a<0:\n",
        "  print(\"Error\")\n",
        "if a>0:\n",
        "  print(a*a)"
      ],
      "metadata": {
        "colab": {
          "base_uri": "https://localhost:8080/"
        },
        "id": "JTivOzreBeQT",
        "outputId": "648e10c8-bc7c-49aa-8952-9cbb43836ff8"
      },
      "execution_count": null,
      "outputs": [
        {
          "output_type": "stream",
          "name": "stdout",
          "text": [
            "5\n",
            "25\n"
          ]
        }
      ]
    },
    {
      "cell_type": "code",
      "source": [
        "a=int(input())\n",
        "b=(a*a*a)\n",
        "\n",
        "print(b)"
      ],
      "metadata": {
        "colab": {
          "base_uri": "https://localhost:8080/"
        },
        "id": "e8OQTCcBECln",
        "outputId": "d7c0fd15-c748-4953-e29a-3950b88df567"
      },
      "execution_count": null,
      "outputs": [
        {
          "output_type": "stream",
          "name": "stdout",
          "text": [
            "2\n",
            "8\n"
          ]
        }
      ]
    },
    {
      "cell_type": "code",
      "source": [
        "a=int(input())\n",
        "\n",
        "if a==0:\n",
        "  print(\"Null\")\n",
        "for i in range(1 , a+1):\n",
        "  if i<a:\n",
        "   print(9*i , end=' ')\n",
        "  else:\n",
        "   print(9*i) #This statement ensures that there is no space after the last value\n",
        "\n",
        "#The end=' ' argument in the print() function tells Python to print a space after each number instead of a newline character."
      ],
      "metadata": {
        "colab": {
          "base_uri": "https://localhost:8080/"
        },
        "collapsed": true,
        "id": "lgMWPYDRFRby",
        "outputId": "9da4b069-357c-4546-e3a7-dff4d358fe9a"
      },
      "execution_count": null,
      "outputs": [
        {
          "output_type": "stream",
          "name": "stdout",
          "text": [
            "3\n",
            "9 18 27\n"
          ]
        }
      ]
    },
    {
      "cell_type": "code",
      "source": [
        "def factorial(n):\n",
        "  if n == 0:\n",
        "    return 1\n",
        "  else:\n",
        "    return n * factorial(n-1)\n",
        "\n",
        "n = int(input())\n",
        "result = factorial(n)\n",
        "print(result)"
      ],
      "metadata": {
        "colab": {
          "base_uri": "https://localhost:8080/"
        },
        "id": "29ZJub5IANFZ",
        "outputId": "45774d3d-8501-4392-a8cd-173de7dbfbe0"
      },
      "execution_count": null,
      "outputs": [
        {
          "output_type": "stream",
          "name": "stdout",
          "text": [
            "5\n",
            "120\n"
          ]
        }
      ]
    },
    {
      "cell_type": "code",
      "source": [
        "a = float(input())\n",
        "b = float(input())\n",
        "c = float(input())\n",
        "\n",
        "if a > b and a > c:\n",
        "  print(a)\n",
        "elif b > a and b > c:\n",
        "  print(b)\n",
        "elif c > b and c > a:\n",
        "  print(c)\n",
        "else:\n",
        "  print(0)"
      ],
      "metadata": {
        "colab": {
          "base_uri": "https://localhost:8080/"
        },
        "id": "CNo5jUuaAnQJ",
        "outputId": "012fd3c4-1b6d-4b50-fb35-be271ac561cd"
      },
      "execution_count": null,
      "outputs": [
        {
          "output_type": "stream",
          "name": "stdout",
          "text": [
            "2\n",
            "5\n",
            "8\n",
            "8.0\n"
          ]
        }
      ]
    },
    {
      "cell_type": "code",
      "source": [
        "a = int(input())\n",
        "\n",
        "for i in range(1,a+1):\n",
        "  print(i)"
      ],
      "metadata": {
        "colab": {
          "base_uri": "https://localhost:8080/"
        },
        "id": "OD3iBBWkKmcQ",
        "outputId": "254b1fd6-7955-4264-ec10-dc237b16d838"
      },
      "execution_count": null,
      "outputs": [
        {
          "output_type": "stream",
          "name": "stdout",
          "text": [
            "5\n",
            "1\n",
            "2\n",
            "3\n",
            "4\n",
            "5\n"
          ]
        }
      ]
    },
    {
      "cell_type": "code",
      "source": [
        "a = int(input())\n",
        "end_char = ' ' # Default to a space\n",
        "\n",
        "for i in range(1, 4):\n",
        "  if i == 3: # Check if this is the last iteration (since range is 1 to 3)\n",
        "    end_char = '' # Set end to empty for the last number\n",
        "\n",
        "  print(a * i, end=end_char)"
      ],
      "metadata": {
        "colab": {
          "base_uri": "https://localhost:8080/"
        },
        "id": "TVwFpeZgG20K",
        "outputId": "2e64faa0-e900-496f-fcd9-c0ba7ce0dea3"
      },
      "execution_count": null,
      "outputs": [
        {
          "output_type": "stream",
          "name": "stdout",
          "text": [
            "2\n",
            "2 4 6"
          ]
        }
      ]
    },
    {
      "cell_type": "code",
      "source": [
        "a = int(input())\n",
        "b = a*1000\n",
        "c = a*100000\n",
        "\n",
        "print(b)\n",
        "print(c)"
      ],
      "metadata": {
        "colab": {
          "base_uri": "https://localhost:8080/"
        },
        "id": "vwJ_5V79HPca",
        "outputId": "cd54da5b-a753-49d6-c8a5-c1ee1e8e8af0"
      },
      "execution_count": null,
      "outputs": [
        {
          "output_type": "stream",
          "name": "stdout",
          "text": [
            "20\n",
            "20000\n",
            "2000000\n"
          ]
        }
      ]
    },
    {
      "cell_type": "code",
      "source": [
        "import math\n",
        "\n",
        "def circumference():\n",
        "  a = float(input())\n",
        "\n",
        "  if a > 0:\n",
        "    return round (2*a*math.pi,2)\n",
        "  else:\n",
        "    return \"Error\"\n",
        "\n",
        "result = circumference()\n",
        "print(result)"
      ],
      "metadata": {
        "colab": {
          "base_uri": "https://localhost:8080/"
        },
        "collapsed": true,
        "id": "fpeW7tN-JMkU",
        "outputId": "5a0bd53d-5ff0-4430-b46c-d485fe00a54c"
      },
      "execution_count": null,
      "outputs": [
        {
          "output_type": "stream",
          "name": "stdout",
          "text": [
            "2\n",
            "12.57\n"
          ]
        }
      ]
    },
    {
      "cell_type": "code",
      "source": [
        "a = int(input())\n",
        "\n",
        "for i in range(1,6):\n",
        "  print(a)"
      ],
      "metadata": {
        "colab": {
          "base_uri": "https://localhost:8080/"
        },
        "id": "ysTbZmVMJSZw",
        "outputId": "8fdc4373-3531-45f1-ccfe-4b7cb621f1ff"
      },
      "execution_count": null,
      "outputs": [
        {
          "output_type": "stream",
          "name": "stdout",
          "text": [
            "5\n",
            "5\n",
            "5\n",
            "5\n",
            "5\n",
            "5\n"
          ]
        }
      ]
    },
    {
      "cell_type": "code",
      "source": [
        "# prompt: Print the digits of the integer in a single line separated by space,\n",
        "\n",
        "a = input()\n",
        "\n",
        "print(*a, sep=\" \")\n",
        "\n",
        "# *a essentially treats each character in the string a as a separate argument"
      ],
      "metadata": {
        "colab": {
          "base_uri": "https://localhost:8080/"
        },
        "id": "2TsQA5ZwO6_t",
        "outputId": "d627ddf5-539d-45ce-e259-ec1c0a1b62b6"
      },
      "execution_count": null,
      "outputs": [
        {
          "output_type": "stream",
          "name": "stdout",
          "text": [
            "348\n",
            "3 4 8\n"
          ]
        }
      ]
    },
    {
      "cell_type": "code",
      "source": [
        "a = int(input())\n",
        "\n",
        "if a % 4==0:\n",
        "  print('Y')\n",
        "else:\n",
        "  print('N')"
      ],
      "metadata": {
        "colab": {
          "base_uri": "https://localhost:8080/"
        },
        "id": "F0X_DVkqQDMd",
        "outputId": "8b14fc9e-b2c5-41c7-8fdf-8218353a8ce8"
      },
      "execution_count": null,
      "outputs": [
        {
          "output_type": "stream",
          "name": "stdout",
          "text": [
            "2000\n",
            "Y\n"
          ]
        }
      ]
    },
    {
      "cell_type": "code",
      "source": [
        "a = input()\n",
        "rev_a = a [::-1]\n",
        "print(rev_a)"
      ],
      "metadata": {
        "colab": {
          "base_uri": "https://localhost:8080/"
        },
        "id": "N_Zw5y_fQw0e",
        "outputId": "1cf24dc4-4912-40cc-be53-f3c791e91ecb"
      },
      "execution_count": null,
      "outputs": [
        {
          "output_type": "stream",
          "name": "stdout",
          "text": [
            "GUVI\n",
            "IVUG\n"
          ]
        }
      ]
    },
    {
      "cell_type": "code",
      "source": [
        "a = int(input())\n",
        "\n",
        "for i in range(1,a+1):\n",
        "  if i % 2 == 0:\n",
        "    print(i)"
      ],
      "metadata": {
        "colab": {
          "base_uri": "https://localhost:8080/"
        },
        "id": "1poHC4_fSo5z",
        "outputId": "7bdf2d78-f1f3-4bc8-fafa-5388b9396145"
      },
      "execution_count": null,
      "outputs": [
        {
          "output_type": "stream",
          "name": "stdout",
          "text": [
            "6\n",
            "2\n",
            "4\n",
            "6\n"
          ]
        }
      ]
    },
    {
      "cell_type": "code",
      "source": [],
      "metadata": {
        "colab": {
          "base_uri": "https://localhost:8080/"
        },
        "id": "iFvuHKFbUshq",
        "outputId": "dfc62dd7-f6b4-4da0-bd9b-4a1aaf9fe7a9"
      },
      "execution_count": null,
      "outputs": [
        {
          "output_type": "stream",
          "name": "stdout",
          "text": [
            "10\n",
            "1\n",
            "2\n",
            "3\n",
            "4\n",
            "5\n",
            "6\n",
            "7\n",
            "8\n",
            "9\n",
            "10\n"
          ]
        }
      ]
    },
    {
      "cell_type": "code",
      "source": [
        "dict_1 = {'1':31 , '2':28 , '3':31 , '4':30 , '5':31 , '6':30 , '7':31 , '8':31 , '9':30 , '10':31 , '11':30 , '12':31}\n",
        "print(dict_1.get(input()))"
      ],
      "metadata": {
        "colab": {
          "base_uri": "https://localhost:8080/"
        },
        "id": "LRqS6dLNV1N7",
        "outputId": "0cc4b6ca-0bcc-4bab-cf61-3fa2e01247e2"
      },
      "execution_count": null,
      "outputs": [
        {
          "output_type": "stream",
          "name": "stdout",
          "text": [
            "12\n",
            "31\n"
          ]
        }
      ]
    },
    {
      "cell_type": "markdown",
      "source": [
        "# Basics"
      ],
      "metadata": {
        "id": "iKYED5Lg7AuJ"
      }
    },
    {
      "cell_type": "code",
      "source": [
        "N = int(input())\n",
        "L = int(input())\n",
        "R = int(input())\n",
        "\n",
        "if N >= L and N <= R:\n",
        "  print(\"yes\")\n",
        "else:\n",
        "  print(\"no\")"
      ],
      "metadata": {
        "id": "cDoKufblF-m2"
      },
      "execution_count": null,
      "outputs": []
    },
    {
      "cell_type": "code",
      "source": [
        "a = int(input())\n",
        "\n",
        "for i in range(1,a+1):\n",
        "  print(i)"
      ],
      "metadata": {
        "colab": {
          "base_uri": "https://localhost:8080/"
        },
        "collapsed": true,
        "id": "3R6InqVfF5BF",
        "outputId": "af6f7d71-9f64-4d3e-92ec-c423101d1b8d"
      },
      "execution_count": null,
      "outputs": [
        {
          "output_type": "stream",
          "name": "stdout",
          "text": [
            "5\n",
            "1\n",
            "2\n",
            "3\n",
            "4\n",
            "5\n"
          ]
        }
      ]
    },
    {
      "cell_type": "code",
      "source": [
        "a = input()\n",
        "num_a = a.split()\n",
        "A = int(num_a[0])\n",
        "B = int(num_a[1])\n",
        "\n",
        "for i in range(B):\n",
        "  print(A)"
      ],
      "metadata": {
        "colab": {
          "base_uri": "https://localhost:8080/"
        },
        "collapsed": true,
        "id": "37Ll3tMtEpxL",
        "outputId": "85189749-8ebc-40d4-8f74-2b3fa3996bd1"
      },
      "execution_count": null,
      "outputs": [
        {
          "output_type": "stream",
          "name": "stdout",
          "text": [
            "5 4\n",
            "5\n",
            "5\n",
            "5\n",
            "5\n"
          ]
        }
      ]
    }
  ]
}